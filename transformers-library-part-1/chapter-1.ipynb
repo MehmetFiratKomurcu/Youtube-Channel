{
 "cells": [
  {
   "cell_type": "code",
   "execution_count": 1,
   "metadata": {},
   "outputs": [
    {
     "name": "stderr",
     "output_type": "stream",
     "text": [
      "/Users/firat.komurcu/python-projects/nlp-course/.env/lib/python3.13/site-packages/tqdm/auto.py:21: TqdmWarning: IProgress not found. Please update jupyter and ipywidgets. See https://ipywidgets.readthedocs.io/en/stable/user_install.html\n",
      "  from .autonotebook import tqdm as notebook_tqdm\n",
      "No model was supplied, defaulted to distilbert/distilbert-base-uncased-finetuned-sst-2-english and revision 714eb0f (https://huggingface.co/distilbert/distilbert-base-uncased-finetuned-sst-2-english).\n",
      "Using a pipeline without specifying a model name and revision in production is not recommended.\n",
      "Device set to use mps:0\n"
     ]
    },
    {
     "data": {
      "text/plain": [
       "[{'label': 'POSITIVE', 'score': 0.9998801946640015}]"
      ]
     },
     "execution_count": 1,
     "metadata": {},
     "output_type": "execute_result"
    }
   ],
   "source": [
    "from transformers import pipeline\n",
    "\n",
    "classifier = pipeline(\"sentiment-analysis\")\n",
    "classifier(\"Season 3 of Invincible is incredible!\")"
   ]
  },
  {
   "cell_type": "code",
   "execution_count": 2,
   "metadata": {},
   "outputs": [
    {
     "data": {
      "text/plain": [
       "[{'label': 'POSITIVE', 'score': 0.9998801946640015},\n",
       " {'label': 'NEGATIVE', 'score': 0.9996974468231201},\n",
       " {'label': 'POSITIVE', 'score': 0.9998612403869629}]"
      ]
     },
     "execution_count": 2,
     "metadata": {},
     "output_type": "execute_result"
    }
   ],
   "source": [
    "classifier(\n",
    "    [\"Season 3 of Invincible is incredible!\", \"Season 2 was awful\", \"Season 1 is still the best!\"]\n",
    ")"
   ]
  },
  {
   "cell_type": "code",
   "execution_count": 4,
   "metadata": {},
   "outputs": [
    {
     "name": "stderr",
     "output_type": "stream",
     "text": [
      "No model was supplied, defaulted to facebook/bart-large-mnli and revision d7645e1 (https://huggingface.co/facebook/bart-large-mnli).\n",
      "Using a pipeline without specifying a model name and revision in production is not recommended.\n",
      "Device set to use mps:0\n"
     ]
    },
    {
     "data": {
      "text/plain": [
       "{'sequence': 'Superman is from Krypton, he is the savior of humanity',\n",
       " 'labels': ['hero', 'villian'],\n",
       " 'scores': [0.997347891330719, 0.0026521203108131886]}"
      ]
     },
     "execution_count": 4,
     "metadata": {},
     "output_type": "execute_result"
    }
   ],
   "source": [
    "classifier = pipeline(\"zero-shot-classification\")\n",
    "classifier(\n",
    "    \"Superman is from Krypton, he is the savior of humanity\",\n",
    "    candidate_labels=[\"hero\", \"villian\"],\n",
    ")"
   ]
  },
  {
   "cell_type": "code",
   "execution_count": 12,
   "metadata": {},
   "outputs": [
    {
     "name": "stderr",
     "output_type": "stream",
     "text": [
      "Device set to use mps:0\n"
     ]
    },
    {
     "data": {
      "text/plain": [
       "[{'generated_text': \"Batman is a detective who is known for his quick thinking and his ability to solve complex cases. He is known for his ability to read people and understand their motivations, which has helped him solve some of the most challenging cases in Gotham City.\\n\\n2. Robin: Robin is a young boy who is trained by Batman to be his sidekick. He is known for his bravery and his ability to use his superhuman strength to help Batman in his missions.\\n\\n3. Nightwing: Nightwing is a former member of the Batman's team who is now working as a vigilante in Gotham City. He is known for his quick thinking and his ability to take down criminals with his arsenal of weapons.\\n\\n4. Red Hood: Red Hood is a former member of the Batman's team who is now working as a vigilante in Gotham City. He is known for his ability to take down criminals with his arsenal of weapons and his ability to use his superhuman strength to overcome obstacles.\\n\\n5. Harley Quinn: Harley Quinn is a criminal who has been hired by the Joker to be his personal assistant. She is known for her wit, her ability to use her sharp tongue to get what she wants, and her ability to use her superhuman strength to take down criminals.\\n\\nThese are just a few examples of the many characters that make up the Batman universe. Each character has their own unique abilities, motivations, and backstory, making the Batman universe a rich and diverse world to explore.\"}]"
      ]
     },
     "execution_count": 12,
     "metadata": {},
     "output_type": "execute_result"
    }
   ],
   "source": [
    "generator = pipeline(\"text-generation\", model=\"TinyLlama/TinyLlama-1.1B-Chat-v1.0\")\n",
    "generator(\"Batman is a detective\")"
   ]
  },
  {
   "cell_type": "code",
   "execution_count": 21,
   "metadata": {},
   "outputs": [
    {
     "name": "stderr",
     "output_type": "stream",
     "text": [
      "Device set to use mps:0\n"
     ]
    },
    {
     "data": {
      "text/plain": [
       "[{'score': 0.31837353110313416,\n",
       "  'token': 3011,\n",
       "  'token_str': 'earth',\n",
       "  'sequence': 'superman is from the planet earth and his name is kal - el'},\n",
       " {'score': 0.0670260414481163,\n",
       "  'token': 7733,\n",
       "  'token_str': 'mars',\n",
       "  'sequence': 'superman is from the planet mars and his name is kal - el'}]"
      ]
     },
     "execution_count": 21,
     "metadata": {},
     "output_type": "execute_result"
    }
   ],
   "source": [
    "unmasker = pipeline(\"fill-mask\", model=\"distilbert-base-uncased\")\n",
    "unmasker(\"Superman is from the planet [MASK] and his name is Kal-El\", top_k=2)"
   ]
  },
  {
   "cell_type": "code",
   "execution_count": 18,
   "metadata": {},
   "outputs": [
    {
     "name": "stderr",
     "output_type": "stream",
     "text": [
      "No model was supplied, defaulted to dbmdz/bert-large-cased-finetuned-conll03-english and revision 4c53496 (https://huggingface.co/dbmdz/bert-large-cased-finetuned-conll03-english).\n",
      "Using a pipeline without specifying a model name and revision in production is not recommended.\n",
      "Some weights of the model checkpoint at dbmdz/bert-large-cased-finetuned-conll03-english were not used when initializing BertForTokenClassification: ['bert.pooler.dense.bias', 'bert.pooler.dense.weight']\n",
      "- This IS expected if you are initializing BertForTokenClassification from the checkpoint of a model trained on another task or with another architecture (e.g. initializing a BertForSequenceClassification model from a BertForPreTraining model).\n",
      "- This IS NOT expected if you are initializing BertForTokenClassification from the checkpoint of a model that you expect to be exactly identical (initializing a BertForSequenceClassification model from a BertForSequenceClassification model).\n",
      "Device set to use mps:0\n",
      "/Users/firat.komurcu/python-projects/nlp-course/.env/lib/python3.13/site-packages/transformers/pipelines/token_classification.py:170: UserWarning: `grouped_entities` is deprecated and will be removed in version v5.0.0, defaulted to `aggregation_strategy=\"AggregationStrategy.SIMPLE\"` instead.\n",
      "  warnings.warn(\n"
     ]
    },
    {
     "data": {
      "text/plain": [
       "[{'entity_group': 'PER',\n",
       "  'score': np.float32(0.9811023),\n",
       "  'word': 'Fırat',\n",
       "  'start': 11,\n",
       "  'end': 16},\n",
       " {'entity_group': 'LOC',\n",
       "  'score': np.float32(0.9994142),\n",
       "  'word': 'Istanbul',\n",
       "  'start': 57,\n",
       "  'end': 65}]"
      ]
     },
     "execution_count": 18,
     "metadata": {},
     "output_type": "execute_result"
    }
   ],
   "source": [
    "## named entity recognition\n",
    "ner = pipeline(\"ner\", grouped_entities=True)\n",
    "ner(\"My name is Fırat, I am a software engineer and I live in Istanbul.\")"
   ]
  },
  {
   "cell_type": "code",
   "execution_count": 10,
   "metadata": {},
   "outputs": [
    {
     "name": "stderr",
     "output_type": "stream",
     "text": [
      "No model was supplied, defaulted to distilbert/distilbert-base-cased-distilled-squad and revision 564e9b5 (https://huggingface.co/distilbert/distilbert-base-cased-distilled-squad).\n",
      "Using a pipeline without specifying a model name and revision in production is not recommended.\n",
      "Device set to use mps:0\n"
     ]
    },
    {
     "data": {
      "text/plain": [
       "{'score': 0.9871581792831421, 'start': 31, 'end': 39, 'answer': 'Istanbul'}"
      ]
     },
     "execution_count": 10,
     "metadata": {},
     "output_type": "execute_result"
    }
   ],
   "source": [
    "from transformers import pipeline\n",
    "\n",
    "question_answerer = pipeline(\"question-answering\")\n",
    "question_answerer(\n",
    "    question=\"Where do I live?\",\n",
    "    context=\"My name is Fırat and I live in Istanbul\",\n",
    ")"
   ]
  },
  {
   "cell_type": "code",
   "execution_count": 19,
   "metadata": {},
   "outputs": [
    {
     "name": "stderr",
     "output_type": "stream",
     "text": [
      "No model was supplied, defaulted to sshleifer/distilbart-cnn-12-6 and revision a4f8f3e (https://huggingface.co/sshleifer/distilbart-cnn-12-6).\n",
      "Using a pipeline without specifying a model name and revision in production is not recommended.\n",
      "Device set to use mps:0\n"
     ]
    },
    {
     "data": {
      "text/plain": [
       "[{'summary_text': ' The Dark Knight Returns is a 1986 four-issue comic book miniseries . It tells an alternative story of Batman who, at 55 years old, returns from a decade of retirement to fight crime . The story also features the return of classic foes Two-Face and the Joker . A direct adaptation of the story was released as a two-part film across 2012 and 2013 .'}]"
      ]
     },
     "execution_count": 19,
     "metadata": {},
     "output_type": "execute_result"
    }
   ],
   "source": [
    "from transformers import pipeline\n",
    "\n",
    "summarizer = pipeline(\"summarization\")\n",
    "summarizer(\n",
    "    \"\"\"\n",
    "    The Dark Knight Returns (alternatively titled Batman: The Dark Knight Returns but originally titled Batman: The Dark Knight) is a 1986 four-issue comic book miniseries starring Batman, written by Frank Miller, illustrated by Miller and Klaus Janson, with color by Lynn Varley, and published by DC Comics. It tells an alternative story of Bruce Wayne who, at 55 years old, returns from a decade of retirement to fight crime while facing opposition from the Gotham City police force and the United States government. The story also features the return of classic foes Two-Face and the Joker, and culminates in a confrontation with Superman, who is now a pawn of the government.\n",
    "\n",
    "When originally published, the series was simply titled Batman: The Dark Knight, with a different title for each issue (The Dark Knight Returns, The Dark Knight Triumphant, Hunt the Dark Knight, and The Dark Knight Falls), but when the series was collected into a single volume, the title of the first issue was applied to the entire series. Some of the earliest collected editions also bore the shorter series title. The story introduces Carrie Kelley as the new Robin and the hyper-violent street gang known as the Mutants. In the Pre-Flashpoint DC Multiverse, the events of The Dark Knight Returns and its associated titles were designated to occur on Earth-31.[1]\n",
    "\n",
    "The miniseries has since been followed by a number of sequels: The Dark Knight Strikes Again, The Dark Knight III: The Master Race, and Dark Knight Returns: The Golden Child. A one-shot prequel, Dark Knight Returns: The Last Crusade, takes place ten years before the original series. Both Batman: Year One and All Star Batman & Robin, the Boy Wonder, are considered by Miller to be canon. Likewise, Superman: Year One takes place in the Dark Knight universe.\n",
    "\n",
    "The Dark Knight Returns is widely considered to be one of the greatest and most influential Batman stories ever made, as well as one of the greatest works of comic art in general, and has been noted for helping reintroduce a darker and more mature-oriented version of the character (and superheroes in general) to pop culture during the 1980s. Various elements of the series have since been incorporated into depictions of Batman in other media, while a direct animated adaptation of the story, Batman: The Dark Knight Returns, was released as a two-part film across 2012 and 2013. \n",
    "\"\"\"\n",
    ", max_length=130, min_length=30)"
   ]
  }
 ],
 "metadata": {
  "kernelspec": {
   "display_name": ".env",
   "language": "python",
   "name": "python3"
  },
  "language_info": {
   "codemirror_mode": {
    "name": "ipython",
    "version": 3
   },
   "file_extension": ".py",
   "mimetype": "text/x-python",
   "name": "python",
   "nbconvert_exporter": "python",
   "pygments_lexer": "ipython3",
   "version": "3.13.2"
  }
 },
 "nbformat": 4,
 "nbformat_minor": 2
}
